{
 "cells": [
  {
   "cell_type": "markdown",
   "id": "f7f6fdeb",
   "metadata": {},
   "source": [
    "# Installing Pyspark in Virtual environment : Pyspark_Environment\n",
    "\n",
    "- Create a new environment in anaconda\n",
    "- Migrate to your proper workspace. Note to switch drive type : Eg. E: to change drive, cd \"Workspace location Say : E:\\Programming Career\\Pyspark\\\" to navigate to the drive"
   ]
  },
  {
   "cell_type": "code",
   "execution_count": 1,
   "id": "ef10637d",
   "metadata": {},
   "outputs": [],
   "source": [
    "# Comment out if you don't have it installed\n",
    "#!pip install pyspark\n",
    "#!pip install pandas"
   ]
  },
  {
   "cell_type": "code",
   "execution_count": 2,
   "id": "7bcb6455",
   "metadata": {},
   "outputs": [],
   "source": [
    "import pandas as pd"
   ]
  },
  {
   "cell_type": "code",
   "execution_count": 5,
   "id": "4c6c16d1",
   "metadata": {},
   "outputs": [],
   "source": [
    "df_pandas = pd.read_csv(\"E:\\Programming Career\\Pyspark\\Pyspark-Introduction\\Dataset\\Sample_data.csv\")"
   ]
  },
  {
   "cell_type": "code",
   "execution_count": 6,
   "id": "dd8e4cde",
   "metadata": {},
   "outputs": [
    {
     "data": {
      "text/html": [
       "<div>\n",
       "<style scoped>\n",
       "    .dataframe tbody tr th:only-of-type {\n",
       "        vertical-align: middle;\n",
       "    }\n",
       "\n",
       "    .dataframe tbody tr th {\n",
       "        vertical-align: top;\n",
       "    }\n",
       "\n",
       "    .dataframe thead th {\n",
       "        text-align: right;\n",
       "    }\n",
       "</style>\n",
       "<table border=\"1\" class=\"dataframe\">\n",
       "  <thead>\n",
       "    <tr style=\"text-align: right;\">\n",
       "      <th></th>\n",
       "      <th>Name</th>\n",
       "      <th>Age</th>\n",
       "      <th>Gender</th>\n",
       "      <th>State</th>\n",
       "    </tr>\n",
       "  </thead>\n",
       "  <tbody>\n",
       "    <tr>\n",
       "      <th>0</th>\n",
       "      <td>Ramudas</td>\n",
       "      <td>27</td>\n",
       "      <td>M</td>\n",
       "      <td>Karnataka</td>\n",
       "    </tr>\n",
       "    <tr>\n",
       "      <th>1</th>\n",
       "      <td>Saturup</td>\n",
       "      <td>27</td>\n",
       "      <td>M</td>\n",
       "      <td>Karnataka</td>\n",
       "    </tr>\n",
       "    <tr>\n",
       "      <th>2</th>\n",
       "      <td>Amita</td>\n",
       "      <td>31</td>\n",
       "      <td>F</td>\n",
       "      <td>West Bengal</td>\n",
       "    </tr>\n",
       "    <tr>\n",
       "      <th>3</th>\n",
       "      <td>Deena</td>\n",
       "      <td>27</td>\n",
       "      <td>F</td>\n",
       "      <td>Karnataka</td>\n",
       "    </tr>\n",
       "    <tr>\n",
       "      <th>4</th>\n",
       "      <td>Sanui</td>\n",
       "      <td>28</td>\n",
       "      <td>M</td>\n",
       "      <td>Maharashtra</td>\n",
       "    </tr>\n",
       "    <tr>\n",
       "      <th>5</th>\n",
       "      <td>Tamaka</td>\n",
       "      <td>26</td>\n",
       "      <td>F</td>\n",
       "      <td>Maharashtra</td>\n",
       "    </tr>\n",
       "    <tr>\n",
       "      <th>6</th>\n",
       "      <td>Samurai</td>\n",
       "      <td>25</td>\n",
       "      <td>F</td>\n",
       "      <td>Maharashtra</td>\n",
       "    </tr>\n",
       "    <tr>\n",
       "      <th>7</th>\n",
       "      <td>Shishimanu</td>\n",
       "      <td>28</td>\n",
       "      <td>M</td>\n",
       "      <td>West Bengal</td>\n",
       "    </tr>\n",
       "  </tbody>\n",
       "</table>\n",
       "</div>"
      ],
      "text/plain": [
       "         Name  Age Gender        State\n",
       "0     Ramudas   27      M    Karnataka\n",
       "1     Saturup   27      M    Karnataka\n",
       "2       Amita   31      F  West Bengal\n",
       "3       Deena   27      F    Karnataka\n",
       "4       Sanui   28      M  Maharashtra\n",
       "5      Tamaka   26      F  Maharashtra\n",
       "6     Samurai   25      F  Maharashtra\n",
       "7  Shishimanu   28      M  West Bengal"
      ]
     },
     "execution_count": 6,
     "metadata": {},
     "output_type": "execute_result"
    }
   ],
   "source": [
    "df_pandas"
   ]
  },
  {
   "cell_type": "code",
   "execution_count": 7,
   "id": "746bf8ea",
   "metadata": {},
   "outputs": [],
   "source": [
    "from pyspark.sql import SparkSession"
   ]
  },
  {
   "cell_type": "code",
   "execution_count": 8,
   "id": "608c9761",
   "metadata": {},
   "outputs": [],
   "source": [
    "spark = SparkSession.builder.appName(\"Practise-Session\").getOrCreate()"
   ]
  },
  {
   "cell_type": "code",
   "execution_count": 9,
   "id": "284799a3",
   "metadata": {},
   "outputs": [
    {
     "data": {
      "text/html": [
       "\n",
       "            <div>\n",
       "                <p><b>SparkSession - in-memory</b></p>\n",
       "                \n",
       "        <div>\n",
       "            <p><b>SparkContext</b></p>\n",
       "\n",
       "            <p><a href=\"http://LEGION-AH0JRE80-ABHILASH:4040\">Spark UI</a></p>\n",
       "\n",
       "            <dl>\n",
       "              <dt>Version</dt>\n",
       "                <dd><code>v3.3.0</code></dd>\n",
       "              <dt>Master</dt>\n",
       "                <dd><code>local[*]</code></dd>\n",
       "              <dt>AppName</dt>\n",
       "                <dd><code>Practise-Session</code></dd>\n",
       "            </dl>\n",
       "        </div>\n",
       "        \n",
       "            </div>\n",
       "        "
      ],
      "text/plain": [
       "<pyspark.sql.session.SparkSession at 0x1f13c530580>"
      ]
     },
     "execution_count": 9,
     "metadata": {},
     "output_type": "execute_result"
    }
   ],
   "source": [
    "spark"
   ]
  },
  {
   "cell_type": "code",
   "execution_count": 11,
   "id": "35f8dbd0",
   "metadata": {},
   "outputs": [],
   "source": [
    "df_pyspark = spark.read.csv(\"E:\\Programming Career\\Pyspark\\Pyspark-Introduction\\Dataset\\Sample_data.csv\")"
   ]
  },
  {
   "cell_type": "code",
   "execution_count": 12,
   "id": "fa481332",
   "metadata": {},
   "outputs": [
    {
     "data": {
      "text/plain": [
       "DataFrame[_c0: string, _c1: string, _c2: string, _c3: string]"
      ]
     },
     "execution_count": 12,
     "metadata": {},
     "output_type": "execute_result"
    }
   ],
   "source": [
    "df_pyspark"
   ]
  },
  {
   "cell_type": "code",
   "execution_count": 13,
   "id": "be4ce69b",
   "metadata": {},
   "outputs": [
    {
     "name": "stdout",
     "output_type": "stream",
     "text": [
      "+----------+---+------+-----------+\n",
      "|       _c0|_c1|   _c2|        _c3|\n",
      "+----------+---+------+-----------+\n",
      "|      Name|Age|Gender|      State|\n",
      "|   Ramudas| 27|     M|  Karnataka|\n",
      "|   Saturup| 27|     M|  Karnataka|\n",
      "|     Amita| 31|     F|West Bengal|\n",
      "|     Deena| 27|     F|  Karnataka|\n",
      "|     Sanui| 28|     M|Maharashtra|\n",
      "|    Tamaka| 26|     F|Maharashtra|\n",
      "|   Samurai| 25|     F|Maharashtra|\n",
      "|Shishimanu| 28|     M|West Bengal|\n",
      "+----------+---+------+-----------+\n",
      "\n"
     ]
    }
   ],
   "source": [
    "df_pyspark.show()"
   ]
  },
  {
   "cell_type": "code",
   "execution_count": 14,
   "id": "1529a14e",
   "metadata": {},
   "outputs": [],
   "source": [
    "df_pyspark = spark.read.option('header','true').csv(\"E:\\Programming Career\\Pyspark\\Pyspark-Introduction\\Dataset\\Sample_data.csv\")"
   ]
  },
  {
   "cell_type": "code",
   "execution_count": 15,
   "id": "3efb6875",
   "metadata": {},
   "outputs": [
    {
     "data": {
      "text/plain": [
       "DataFrame[Name: string, Age: string, Gender: string, State: string]"
      ]
     },
     "execution_count": 15,
     "metadata": {},
     "output_type": "execute_result"
    }
   ],
   "source": [
    "df_pyspark"
   ]
  },
  {
   "cell_type": "code",
   "execution_count": 16,
   "id": "90fcdc9b",
   "metadata": {},
   "outputs": [
    {
     "name": "stdout",
     "output_type": "stream",
     "text": [
      "+----------+---+------+-----------+\n",
      "|      Name|Age|Gender|      State|\n",
      "+----------+---+------+-----------+\n",
      "|   Ramudas| 27|     M|  Karnataka|\n",
      "|   Saturup| 27|     M|  Karnataka|\n",
      "|     Amita| 31|     F|West Bengal|\n",
      "|     Deena| 27|     F|  Karnataka|\n",
      "|     Sanui| 28|     M|Maharashtra|\n",
      "|    Tamaka| 26|     F|Maharashtra|\n",
      "|   Samurai| 25|     F|Maharashtra|\n",
      "|Shishimanu| 28|     M|West Bengal|\n",
      "+----------+---+------+-----------+\n",
      "\n"
     ]
    }
   ],
   "source": [
    "df_pyspark.show()"
   ]
  },
  {
   "cell_type": "code",
   "execution_count": 17,
   "id": "b5e86cec",
   "metadata": {},
   "outputs": [
    {
     "data": {
      "text/plain": [
       "pandas.core.frame.DataFrame"
      ]
     },
     "execution_count": 17,
     "metadata": {},
     "output_type": "execute_result"
    }
   ],
   "source": [
    "type(df_pandas)"
   ]
  },
  {
   "cell_type": "code",
   "execution_count": 18,
   "id": "eaff463f",
   "metadata": {},
   "outputs": [
    {
     "data": {
      "text/plain": [
       "pyspark.sql.dataframe.DataFrame"
      ]
     },
     "execution_count": 18,
     "metadata": {},
     "output_type": "execute_result"
    }
   ],
   "source": [
    "type(df_pyspark)"
   ]
  },
  {
   "cell_type": "code",
   "execution_count": 19,
   "id": "ef9cbbd1",
   "metadata": {},
   "outputs": [
    {
     "data": {
      "text/plain": [
       "Row(Name='Ramudas', Age='27', Gender='M', State='Karnataka')"
      ]
     },
     "execution_count": 19,
     "metadata": {},
     "output_type": "execute_result"
    }
   ],
   "source": [
    "df_pyspark.head()"
   ]
  },
  {
   "cell_type": "code",
   "execution_count": 20,
   "id": "d3c2a972",
   "metadata": {},
   "outputs": [
    {
     "data": {
      "text/plain": [
       "[Row(Name='Ramudas', Age='27', Gender='M', State='Karnataka'),\n",
       " Row(Name='Saturup', Age='27', Gender='M', State='Karnataka'),\n",
       " Row(Name='Amita', Age='31', Gender='F', State='West Bengal')]"
      ]
     },
     "execution_count": 20,
     "metadata": {},
     "output_type": "execute_result"
    }
   ],
   "source": [
    "df_pyspark.head(3)\n",
    "#Row information"
   ]
  },
  {
   "cell_type": "code",
   "execution_count": 21,
   "id": "62d5b014",
   "metadata": {},
   "outputs": [
    {
     "name": "stdout",
     "output_type": "stream",
     "text": [
      "<class 'pandas.core.frame.DataFrame'>\n",
      "RangeIndex: 8 entries, 0 to 7\n",
      "Data columns (total 4 columns):\n",
      " #   Column  Non-Null Count  Dtype \n",
      "---  ------  --------------  ----- \n",
      " 0   Name    8 non-null      object\n",
      " 1   Age     8 non-null      int64 \n",
      " 2   Gender  8 non-null      object\n",
      " 3   State   8 non-null      object\n",
      "dtypes: int64(1), object(3)\n",
      "memory usage: 384.0+ bytes\n"
     ]
    }
   ],
   "source": [
    "#Column information pandas\n",
    "df_pandas.info()"
   ]
  },
  {
   "cell_type": "code",
   "execution_count": 22,
   "id": "f9ae167c",
   "metadata": {},
   "outputs": [
    {
     "name": "stdout",
     "output_type": "stream",
     "text": [
      "root\n",
      " |-- Name: string (nullable = true)\n",
      " |-- Age: string (nullable = true)\n",
      " |-- Gender: string (nullable = true)\n",
      " |-- State: string (nullable = true)\n",
      "\n"
     ]
    }
   ],
   "source": [
    "#Column information pyspark\n",
    "df_pyspark.printSchema()"
   ]
  }
 ],
 "metadata": {
  "kernelspec": {
   "display_name": "Python 3 (ipykernel)",
   "language": "python",
   "name": "python3"
  },
  "language_info": {
   "codemirror_mode": {
    "name": "ipython",
    "version": 3
   },
   "file_extension": ".py",
   "mimetype": "text/x-python",
   "name": "python",
   "nbconvert_exporter": "python",
   "pygments_lexer": "ipython3",
   "version": "3.8.15"
  }
 },
 "nbformat": 4,
 "nbformat_minor": 5
}
