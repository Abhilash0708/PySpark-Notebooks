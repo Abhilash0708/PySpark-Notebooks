{
 "cells": [
  {
   "cell_type": "markdown",
   "id": "3624e3d3",
   "metadata": {},
   "source": [
    "## Pyspark with Python - Group by and Aggregate functions"
   ]
  },
  {
   "cell_type": "code",
   "execution_count": 2,
   "id": "88a9a07a",
   "metadata": {},
   "outputs": [],
   "source": [
    "from pyspark.sql import SparkSession"
   ]
  },
  {
   "cell_type": "code",
   "execution_count": 3,
   "id": "45798538",
   "metadata": {},
   "outputs": [],
   "source": [
    "spark = SparkSession.builder.appName('DataFrame').getOrCreate()"
   ]
  },
  {
   "cell_type": "code",
   "execution_count": 4,
   "id": "185571d9",
   "metadata": {},
   "outputs": [
    {
     "data": {
      "text/html": [
       "\n",
       "            <div>\n",
       "                <p><b>SparkSession - in-memory</b></p>\n",
       "                \n",
       "        <div>\n",
       "            <p><b>SparkContext</b></p>\n",
       "\n",
       "            <p><a href=\"http://LEGION-AH0JRE80-ABHILASH:4041\">Spark UI</a></p>\n",
       "\n",
       "            <dl>\n",
       "              <dt>Version</dt>\n",
       "                <dd><code>v3.3.0</code></dd>\n",
       "              <dt>Master</dt>\n",
       "                <dd><code>local[*]</code></dd>\n",
       "              <dt>AppName</dt>\n",
       "                <dd><code>DataFrame</code></dd>\n",
       "            </dl>\n",
       "        </div>\n",
       "        \n",
       "            </div>\n",
       "        "
      ],
      "text/plain": [
       "<pyspark.sql.session.SparkSession at 0x1b9361fbfa0>"
      ]
     },
     "execution_count": 4,
     "metadata": {},
     "output_type": "execute_result"
    }
   ],
   "source": [
    "spark\n",
    "# In local only 1 master node"
   ]
  },
  {
   "cell_type": "code",
   "execution_count": 5,
   "id": "7dd4dc03",
   "metadata": {},
   "outputs": [],
   "source": [
    "## Read the dataset - Method - 1\n",
    "df_pyspark = spark.read.option('header','true').csv('E:\\Programming Career\\Pyspark\\Pyspark-Introduction\\Dataset\\Sample_data - Part - 4.csv',inferSchema=True)"
   ]
  },
  {
   "cell_type": "code",
   "execution_count": 6,
   "id": "2793eb0f",
   "metadata": {},
   "outputs": [
    {
     "name": "stdout",
     "output_type": "stream",
     "text": [
      "root\n",
      " |-- Name: string (nullable = true)\n",
      " |-- Age: integer (nullable = true)\n",
      " |-- Gender: string (nullable = true)\n",
      " |-- State: string (nullable = true)\n",
      " |-- City: string (nullable = true)\n",
      " |-- Experience: double (nullable = true)\n",
      " |-- Salary: integer (nullable = true)\n",
      " |-- Department: string (nullable = true)\n",
      "\n"
     ]
    }
   ],
   "source": [
    "df_pyspark.printSchema()"
   ]
  },
  {
   "cell_type": "code",
   "execution_count": 7,
   "id": "da4b2d3d",
   "metadata": {},
   "outputs": [
    {
     "name": "stdout",
     "output_type": "stream",
     "text": [
      "+--------+---+------+-----------+----------+----------+------+----------------+\n",
      "|    Name|Age|Gender|      State|      City|Experience|Salary|      Department|\n",
      "+--------+---+------+-----------+----------+----------+------+----------------+\n",
      "|Bumbhole| 27|     M|  Karnataka| Bangalore|       2.5|120000|    Data Science|\n",
      "|  Vishnu| 27|     M|  Karnataka|     Hosur|       3.5| 70000|    Data Science|\n",
      "|  Amanta| 31|     F| Tamil Nadu|   Chennai|       5.0| 30000|       Economics|\n",
      "| Samanta| 27|     F|  Karnataka| Bangalore|       2.5| 22000|Customer Support|\n",
      "|   Pallu| 28|     M|Maharashtra|      Pune|       2.2| 25000|         Banking|\n",
      "|  Naruto| 26|     F|     Punjab|Chandigarh|       7.0| 30000|     Engineering|\n",
      "| Samurai| 25|     F|Maharashtra|      Pune|       2.0| 25000|Customer Support|\n",
      "| Shimanu| 28|     M|West Bengal|   Kolkata|       4.0| 75000|       Economics|\n",
      "|   Mannu| 27|     F|    Haryana|Chandigarh|       3.0|110000|     Engineering|\n",
      "|   Subbu| 25|     F| Tamil Nadu|   Chennai|       3.0| 30000|         Banking|\n",
      "|   Banty| 21|     M|      Delhi| Delhi-NCR|       5.0| 75000|     Engineering|\n",
      "+--------+---+------+-----------+----------+----------+------+----------------+\n",
      "\n"
     ]
    }
   ],
   "source": [
    "df_pyspark.show()"
   ]
  },
  {
   "cell_type": "markdown",
   "id": "b04e3942",
   "metadata": {},
   "source": [
    "## Based on Age and Experience - predict salary"
   ]
  },
  {
   "cell_type": "code",
   "execution_count": null,
   "id": "43c86805",
   "metadata": {},
   "outputs": [],
   "source": [
    "## Vector assembler\n",
    "[Age, Experience] ----"
   ]
  }
 ],
 "metadata": {
  "kernelspec": {
   "display_name": "Python 3 (ipykernel)",
   "language": "python",
   "name": "python3"
  },
  "language_info": {
   "codemirror_mode": {
    "name": "ipython",
    "version": 3
   },
   "file_extension": ".py",
   "mimetype": "text/x-python",
   "name": "python",
   "nbconvert_exporter": "python",
   "pygments_lexer": "ipython3",
   "version": "3.8.15"
  }
 },
 "nbformat": 4,
 "nbformat_minor": 5
}
