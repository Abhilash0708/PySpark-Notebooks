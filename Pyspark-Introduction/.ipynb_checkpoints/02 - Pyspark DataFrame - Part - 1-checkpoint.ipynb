{
 "cells": [
  {
   "cell_type": "markdown",
   "id": "6bc25964",
   "metadata": {},
   "source": [
    "## This Notebook covers -\n",
    "- PySpark Dataframes\n",
    "- Reading the dataset\n",
    "- Checking the datatypes\n",
    "- Selecting Columns and Indexing\n",
    "- Check Describe option similar to Pandas\n",
    "- Adding Columns\n",
    "- Dropping Columns"
   ]
  },
  {
   "cell_type": "code",
   "execution_count": 20,
   "id": "23cfd2aa",
   "metadata": {},
   "outputs": [],
   "source": [
    "from pyspark.sql import SparkSession"
   ]
  },
  {
   "cell_type": "code",
   "execution_count": 21,
   "id": "b464b9a0",
   "metadata": {},
   "outputs": [],
   "source": [
    "spark = SparkSession.builder.appName('DataFrame').getOrCreate()"
   ]
  },
  {
   "cell_type": "code",
   "execution_count": 22,
   "id": "1f7d017e",
   "metadata": {},
   "outputs": [
    {
     "data": {
      "text/html": [
       "\n",
       "            <div>\n",
       "                <p><b>SparkSession - in-memory</b></p>\n",
       "                \n",
       "        <div>\n",
       "            <p><b>SparkContext</b></p>\n",
       "\n",
       "            <p><a href=\"http://LEGION-AH0JRE80-ABHILASH:4041\">Spark UI</a></p>\n",
       "\n",
       "            <dl>\n",
       "              <dt>Version</dt>\n",
       "                <dd><code>v3.3.0</code></dd>\n",
       "              <dt>Master</dt>\n",
       "                <dd><code>local[*]</code></dd>\n",
       "              <dt>AppName</dt>\n",
       "                <dd><code>DataFrame</code></dd>\n",
       "            </dl>\n",
       "        </div>\n",
       "        \n",
       "            </div>\n",
       "        "
      ],
      "text/plain": [
       "<pyspark.sql.session.SparkSession at 0x15ced43c130>"
      ]
     },
     "execution_count": 22,
     "metadata": {},
     "output_type": "execute_result"
    }
   ],
   "source": [
    "spark\n",
    "# In local only 1 master node"
   ]
  },
  {
   "cell_type": "code",
   "execution_count": 23,
   "id": "8369cff6",
   "metadata": {},
   "outputs": [],
   "source": [
    "## Read the dataset - Method - 1\n",
    "df_pyspark = spark.read.option('header','true').csv('E:\\Programming Career\\Pyspark\\Pyspark-Introduction\\Dataset\\Sample_data.csv')"
   ]
  },
  {
   "cell_type": "code",
   "execution_count": 24,
   "id": "3cbb7ef7",
   "metadata": {},
   "outputs": [
    {
     "name": "stdout",
     "output_type": "stream",
     "text": [
      "+----------+---+------+-----------+\n",
      "|      Name|Age|Gender|      State|\n",
      "+----------+---+------+-----------+\n",
      "|   Ramudas| 27|     M|  Karnataka|\n",
      "|   Saturup| 27|     M|  Karnataka|\n",
      "|     Amita| 31|     F|West Bengal|\n",
      "|     Deena| 27|     F|  Karnataka|\n",
      "|     Sanui| 28|     M|Maharashtra|\n",
      "|    Tamaka| 26|     F|Maharashtra|\n",
      "|   Samurai| 25|     F|Maharashtra|\n",
      "|Shishimanu| 28|     M|West Bengal|\n",
      "+----------+---+------+-----------+\n",
      "\n"
     ]
    }
   ],
   "source": [
    "df_pyspark.show()"
   ]
  },
  {
   "cell_type": "code",
   "execution_count": 25,
   "id": "89ede600",
   "metadata": {},
   "outputs": [
    {
     "name": "stdout",
     "output_type": "stream",
     "text": [
      "root\n",
      " |-- Name: string (nullable = true)\n",
      " |-- Age: string (nullable = true)\n",
      " |-- Gender: string (nullable = true)\n",
      " |-- State: string (nullable = true)\n",
      "\n"
     ]
    }
   ],
   "source": [
    "## Check Schema\n",
    "df_pyspark.printSchema()\n",
    "## Schema not inferred"
   ]
  },
  {
   "cell_type": "code",
   "execution_count": 26,
   "id": "aa808d40",
   "metadata": {},
   "outputs": [],
   "source": [
    "## Read the dataset\n",
    "df_pyspark = spark.read.option('header','true').csv('E:\\Programming Career\\Pyspark\\Pyspark-Introduction\\Dataset\\Sample_data.csv', inferSchema = True)"
   ]
  },
  {
   "cell_type": "code",
   "execution_count": 27,
   "id": "b5c5936c",
   "metadata": {},
   "outputs": [
    {
     "name": "stdout",
     "output_type": "stream",
     "text": [
      "root\n",
      " |-- Name: string (nullable = true)\n",
      " |-- Age: integer (nullable = true)\n",
      " |-- Gender: string (nullable = true)\n",
      " |-- State: string (nullable = true)\n",
      "\n"
     ]
    }
   ],
   "source": [
    "## Check Schema\n",
    "df_pyspark.printSchema()\n",
    "## Schema inferred"
   ]
  },
  {
   "cell_type": "code",
   "execution_count": 28,
   "id": "4e406761",
   "metadata": {},
   "outputs": [
    {
     "name": "stdout",
     "output_type": "stream",
     "text": [
      "+----------+---+------+-----------+\n",
      "|      Name|Age|Gender|      State|\n",
      "+----------+---+------+-----------+\n",
      "|   Ramudas| 27|     M|  Karnataka|\n",
      "|   Saturup| 27|     M|  Karnataka|\n",
      "|     Amita| 31|     F|West Bengal|\n",
      "|     Deena| 27|     F|  Karnataka|\n",
      "|     Sanui| 28|     M|Maharashtra|\n",
      "|    Tamaka| 26|     F|Maharashtra|\n",
      "|   Samurai| 25|     F|Maharashtra|\n",
      "|Shishimanu| 28|     M|West Bengal|\n",
      "+----------+---+------+-----------+\n",
      "\n"
     ]
    }
   ],
   "source": [
    "## Read data - Method - 2\n",
    "df_pyspark = spark.read.csv('E:\\Programming Career\\Pyspark\\Pyspark-Introduction\\Dataset\\Sample_data.csv', header = True, inferSchema = True)\n",
    "df_pyspark.show()"
   ]
  },
  {
   "cell_type": "code",
   "execution_count": 29,
   "id": "91074cfb",
   "metadata": {},
   "outputs": [
    {
     "name": "stdout",
     "output_type": "stream",
     "text": [
      "root\n",
      " |-- Name: string (nullable = true)\n",
      " |-- Age: integer (nullable = true)\n",
      " |-- Gender: string (nullable = true)\n",
      " |-- State: string (nullable = true)\n",
      "\n"
     ]
    }
   ],
   "source": [
    "## Check Schema\n",
    "df_pyspark.printSchema()\n",
    "## Schema inferred"
   ]
  },
  {
   "cell_type": "code",
   "execution_count": 30,
   "id": "4b2fb289",
   "metadata": {},
   "outputs": [
    {
     "data": {
      "text/plain": [
       "pyspark.sql.dataframe.DataFrame"
      ]
     },
     "execution_count": 30,
     "metadata": {},
     "output_type": "execute_result"
    }
   ],
   "source": [
    "type(df_pyspark)\n",
    "#Type : pyspark dataframe"
   ]
  },
  {
   "cell_type": "code",
   "execution_count": 31,
   "id": "74913715",
   "metadata": {},
   "outputs": [
    {
     "data": {
      "text/plain": [
       "['Name', 'Age', 'Gender', 'State']"
      ]
     },
     "execution_count": 31,
     "metadata": {},
     "output_type": "execute_result"
    }
   ],
   "source": [
    "#Get column names\n",
    "df_pyspark.columns"
   ]
  },
  {
   "cell_type": "code",
   "execution_count": 32,
   "id": "05ee4a56",
   "metadata": {},
   "outputs": [
    {
     "data": {
      "text/plain": [
       "Row(Name='Ramudas', Age=27, Gender='M', State='Karnataka')"
      ]
     },
     "execution_count": 32,
     "metadata": {},
     "output_type": "execute_result"
    }
   ],
   "source": [
    "#Get column names\n",
    "df_pyspark.head()"
   ]
  },
  {
   "cell_type": "code",
   "execution_count": 33,
   "id": "c50d0f03",
   "metadata": {},
   "outputs": [
    {
     "name": "stdout",
     "output_type": "stream",
     "text": [
      "+----------+\n",
      "|      Name|\n",
      "+----------+\n",
      "|   Ramudas|\n",
      "|   Saturup|\n",
      "|     Amita|\n",
      "|     Deena|\n",
      "|     Sanui|\n",
      "|    Tamaka|\n",
      "|   Samurai|\n",
      "|Shishimanu|\n",
      "+----------+\n",
      "\n"
     ]
    },
    {
     "data": {
      "text/plain": [
       "pyspark.sql.dataframe.DataFrame"
      ]
     },
     "execution_count": 33,
     "metadata": {},
     "output_type": "execute_result"
    }
   ],
   "source": [
    "## Selecting a column\n",
    "df_pyspark.select('Name').show()\n",
    "\n",
    "#Type\n",
    "type(df_pyspark.select('Name'))"
   ]
  },
  {
   "cell_type": "code",
   "execution_count": 34,
   "id": "265ab6eb",
   "metadata": {},
   "outputs": [
    {
     "name": "stdout",
     "output_type": "stream",
     "text": [
      "+----------+---+\n",
      "|      Name|Age|\n",
      "+----------+---+\n",
      "|   Ramudas| 27|\n",
      "|   Saturup| 27|\n",
      "|     Amita| 31|\n",
      "|     Deena| 27|\n",
      "|     Sanui| 28|\n",
      "|    Tamaka| 26|\n",
      "|   Samurai| 25|\n",
      "|Shishimanu| 28|\n",
      "+----------+---+\n",
      "\n"
     ]
    }
   ],
   "source": [
    "## Selecting multiple column\n",
    "df_pyspark.select(['Name','Age']).show()"
   ]
  },
  {
   "cell_type": "code",
   "execution_count": 35,
   "id": "d299e850",
   "metadata": {},
   "outputs": [
    {
     "data": {
      "text/plain": [
       "Column<'Name'>"
      ]
     },
     "execution_count": 35,
     "metadata": {},
     "output_type": "execute_result"
    }
   ],
   "source": [
    "## Just returning column\n",
    "df_pyspark['Name']"
   ]
  },
  {
   "cell_type": "code",
   "execution_count": 36,
   "id": "fec6f75b",
   "metadata": {},
   "outputs": [
    {
     "data": {
      "text/plain": [
       "[('Name', 'string'), ('Age', 'int'), ('Gender', 'string'), ('State', 'string')]"
      ]
     },
     "execution_count": 36,
     "metadata": {},
     "output_type": "execute_result"
    }
   ],
   "source": [
    "df_pyspark.dtypes"
   ]
  },
  {
   "cell_type": "code",
   "execution_count": 37,
   "id": "386ee685",
   "metadata": {},
   "outputs": [
    {
     "data": {
      "text/plain": [
       "DataFrame[summary: string, Name: string, Age: string, Gender: string, State: string]"
      ]
     },
     "execution_count": 37,
     "metadata": {},
     "output_type": "execute_result"
    }
   ],
   "source": [
    "df_pyspark.describe()"
   ]
  },
  {
   "cell_type": "code",
   "execution_count": 38,
   "id": "3f876bf9",
   "metadata": {},
   "outputs": [
    {
     "name": "stdout",
     "output_type": "stream",
     "text": [
      "+-------+------+------------------+------+-----------+\n",
      "|summary|  Name|               Age|Gender|      State|\n",
      "+-------+------+------------------+------+-----------+\n",
      "|  count|     8|                 8|     8|          8|\n",
      "|   mean|  null|            27.375|  null|       null|\n",
      "| stddev|  null|1.7677669529663689|  null|       null|\n",
      "|    min| Amita|                25|     F|  Karnataka|\n",
      "|    max|Tamaka|                31|     M|West Bengal|\n",
      "+-------+------+------------------+------+-----------+\n",
      "\n"
     ]
    }
   ],
   "source": [
    "df_pyspark.describe().show()\n",
    "## String min and max based on alphabetical order"
   ]
  },
  {
   "cell_type": "code",
   "execution_count": 39,
   "id": "de1b2d6f",
   "metadata": {},
   "outputs": [
    {
     "data": {
      "text/plain": [
       "DataFrame[Name: string, Age: int, Gender: string, State: string, Age after 5 years: int]"
      ]
     },
     "execution_count": 39,
     "metadata": {},
     "output_type": "execute_result"
    }
   ],
   "source": [
    "## Adding a column\n",
    "df_pyspark.withColumn('Age after 5 years',df_pyspark['Age'] + 5)"
   ]
  },
  {
   "cell_type": "code",
   "execution_count": 40,
   "id": "ceb70cc3",
   "metadata": {},
   "outputs": [
    {
     "name": "stdout",
     "output_type": "stream",
     "text": [
      "+----------+---+------+-----------+-----------------+\n",
      "|      Name|Age|Gender|      State|Age after 5 years|\n",
      "+----------+---+------+-----------+-----------------+\n",
      "|   Ramudas| 27|     M|  Karnataka|               32|\n",
      "|   Saturup| 27|     M|  Karnataka|               32|\n",
      "|     Amita| 31|     F|West Bengal|               36|\n",
      "|     Deena| 27|     F|  Karnataka|               32|\n",
      "|     Sanui| 28|     M|Maharashtra|               33|\n",
      "|    Tamaka| 26|     F|Maharashtra|               31|\n",
      "|   Samurai| 25|     F|Maharashtra|               30|\n",
      "|Shishimanu| 28|     M|West Bengal|               33|\n",
      "+----------+---+------+-----------+-----------------+\n",
      "\n"
     ]
    }
   ],
   "source": [
    "## Showing added columns\n",
    "## Adding a column\n",
    "df_pyspark.withColumn('Age after 5 years',df_pyspark['Age'] + 5).show()"
   ]
  },
  {
   "cell_type": "code",
   "execution_count": 41,
   "id": "10892680",
   "metadata": {},
   "outputs": [
    {
     "name": "stdout",
     "output_type": "stream",
     "text": [
      "+----------+---+------+-----------+\n",
      "|      Name|Age|Gender|      State|\n",
      "+----------+---+------+-----------+\n",
      "|   Ramudas| 27|     M|  Karnataka|\n",
      "|   Saturup| 27|     M|  Karnataka|\n",
      "|     Amita| 31|     F|West Bengal|\n",
      "|     Deena| 27|     F|  Karnataka|\n",
      "|     Sanui| 28|     M|Maharashtra|\n",
      "|    Tamaka| 26|     F|Maharashtra|\n",
      "|   Samurai| 25|     F|Maharashtra|\n",
      "|Shishimanu| 28|     M|West Bengal|\n",
      "+----------+---+------+-----------+\n",
      "\n"
     ]
    }
   ],
   "source": [
    "df_pyspark.show()\n",
    "#Not an inplace operation, needs to  be assigned to a dataframe variable"
   ]
  },
  {
   "cell_type": "code",
   "execution_count": 42,
   "id": "9f209b8e",
   "metadata": {},
   "outputs": [],
   "source": [
    "df_pyspark = df_pyspark.withColumn('Age after 5 years',df_pyspark['Age'] + 5)"
   ]
  },
  {
   "cell_type": "code",
   "execution_count": 43,
   "id": "5512d2b8",
   "metadata": {},
   "outputs": [
    {
     "name": "stdout",
     "output_type": "stream",
     "text": [
      "+----------+---+------+-----------+-----------------+\n",
      "|      Name|Age|Gender|      State|Age after 5 years|\n",
      "+----------+---+------+-----------+-----------------+\n",
      "|   Ramudas| 27|     M|  Karnataka|               32|\n",
      "|   Saturup| 27|     M|  Karnataka|               32|\n",
      "|     Amita| 31|     F|West Bengal|               36|\n",
      "|     Deena| 27|     F|  Karnataka|               32|\n",
      "|     Sanui| 28|     M|Maharashtra|               33|\n",
      "|    Tamaka| 26|     F|Maharashtra|               31|\n",
      "|   Samurai| 25|     F|Maharashtra|               30|\n",
      "|Shishimanu| 28|     M|West Bengal|               33|\n",
      "+----------+---+------+-----------+-----------------+\n",
      "\n"
     ]
    }
   ],
   "source": [
    "df_pyspark.show()"
   ]
  },
  {
   "cell_type": "code",
   "execution_count": 44,
   "id": "4f16c53b",
   "metadata": {},
   "outputs": [
    {
     "name": "stdout",
     "output_type": "stream",
     "text": [
      "+----------+---+------+-----------+\n",
      "|      Name|Age|Gender|      State|\n",
      "+----------+---+------+-----------+\n",
      "|   Ramudas| 27|     M|  Karnataka|\n",
      "|   Saturup| 27|     M|  Karnataka|\n",
      "|     Amita| 31|     F|West Bengal|\n",
      "|     Deena| 27|     F|  Karnataka|\n",
      "|     Sanui| 28|     M|Maharashtra|\n",
      "|    Tamaka| 26|     F|Maharashtra|\n",
      "|   Samurai| 25|     F|Maharashtra|\n",
      "|Shishimanu| 28|     M|West Bengal|\n",
      "+----------+---+------+-----------+\n",
      "\n"
     ]
    }
   ],
   "source": [
    "df_pyspark.drop('Age after 5 years').show()\n",
    "## Again not an inplace operation need to assign to a dataframe variable"
   ]
  },
  {
   "cell_type": "code",
   "execution_count": 45,
   "id": "5530b41e",
   "metadata": {},
   "outputs": [
    {
     "name": "stdout",
     "output_type": "stream",
     "text": [
      "+----------+---+------+-----------+\n",
      "|      Name|Age|Gender|      State|\n",
      "+----------+---+------+-----------+\n",
      "|   Ramudas| 27|     M|  Karnataka|\n",
      "|   Saturup| 27|     M|  Karnataka|\n",
      "|     Amita| 31|     F|West Bengal|\n",
      "|     Deena| 27|     F|  Karnataka|\n",
      "|     Sanui| 28|     M|Maharashtra|\n",
      "|    Tamaka| 26|     F|Maharashtra|\n",
      "|   Samurai| 25|     F|Maharashtra|\n",
      "|Shishimanu| 28|     M|West Bengal|\n",
      "+----------+---+------+-----------+\n",
      "\n"
     ]
    }
   ],
   "source": [
    "df_pyspark = df_pyspark.drop('Age after 5 years')\n",
    "## Assigning to a dataframe variable\n",
    "df_pyspark.show()"
   ]
  },
  {
   "cell_type": "code",
   "execution_count": 46,
   "id": "5429eae1",
   "metadata": {},
   "outputs": [
    {
     "name": "stdout",
     "output_type": "stream",
     "text": [
      "+----------+---+---+-----------+\n",
      "|      Name|Age|Sex|      State|\n",
      "+----------+---+---+-----------+\n",
      "|   Ramudas| 27|  M|  Karnataka|\n",
      "|   Saturup| 27|  M|  Karnataka|\n",
      "|     Amita| 31|  F|West Bengal|\n",
      "|     Deena| 27|  F|  Karnataka|\n",
      "|     Sanui| 28|  M|Maharashtra|\n",
      "|    Tamaka| 26|  F|Maharashtra|\n",
      "|   Samurai| 25|  F|Maharashtra|\n",
      "|Shishimanu| 28|  M|West Bengal|\n",
      "+----------+---+---+-----------+\n",
      "\n"
     ]
    }
   ],
   "source": [
    "## Renaming column\n",
    "df_pyspark.withColumnRenamed('Gender','Sex').show()\n",
    "## Not an inplace operation"
   ]
  },
  {
   "cell_type": "code",
   "execution_count": 47,
   "id": "dfcb570b",
   "metadata": {},
   "outputs": [],
   "source": [
    "df_pyspark = df_pyspark.withColumnRenamed('Gender','Sex')"
   ]
  },
  {
   "cell_type": "code",
   "execution_count": 48,
   "id": "bb565e36",
   "metadata": {},
   "outputs": [
    {
     "name": "stdout",
     "output_type": "stream",
     "text": [
      "+----------+---+---+-----------+\n",
      "|      Name|Age|Sex|      State|\n",
      "+----------+---+---+-----------+\n",
      "|   Ramudas| 27|  M|  Karnataka|\n",
      "|   Saturup| 27|  M|  Karnataka|\n",
      "|     Amita| 31|  F|West Bengal|\n",
      "|     Deena| 27|  F|  Karnataka|\n",
      "|     Sanui| 28|  M|Maharashtra|\n",
      "|    Tamaka| 26|  F|Maharashtra|\n",
      "|   Samurai| 25|  F|Maharashtra|\n",
      "|Shishimanu| 28|  M|West Bengal|\n",
      "+----------+---+---+-----------+\n",
      "\n"
     ]
    }
   ],
   "source": [
    "df_pyspark.show()"
   ]
  }
 ],
 "metadata": {
  "kernelspec": {
   "display_name": "Python 3 (ipykernel)",
   "language": "python",
   "name": "python3"
  },
  "language_info": {
   "codemirror_mode": {
    "name": "ipython",
    "version": 3
   },
   "file_extension": ".py",
   "mimetype": "text/x-python",
   "name": "python",
   "nbconvert_exporter": "python",
   "pygments_lexer": "ipython3",
   "version": "3.8.15"
  }
 },
 "nbformat": 4,
 "nbformat_minor": 5
}
